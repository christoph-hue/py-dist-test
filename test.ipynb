{
 "cells": [
  {
   "cell_type": "code",
   "execution_count": null,
   "id": "acknowledged-convertible",
   "metadata": {},
   "outputs": [],
   "source": [
    "pip install -i https://test.pypi.org/simple/ geneEcomparison==0.0.18 --extra-index-url https://pypi.org/simple"
   ]
  },
  {
   "cell_type": "code",
   "execution_count": null,
   "metadata": {},
   "outputs": [],
   "source": [
    "from geneEcomparison import App\n",
    "App.setAvailableGenes([\"Gabra4\", \"Gabra5\", \"Gabrb1\", \"Gabrb2\", \"Gabrb3\", \"Gabrd\", \"Gabrg2\"])\n",
    "App.start()"
   ]
  }
 ],
 "metadata": {
  "kernelspec": {
   "display_name": "Python 3",
   "language": "python",
   "name": "python3"
  },
  "language_info": {
   "name": ""
  }
 },
 "nbformat": 4,
 "nbformat_minor": 5
}
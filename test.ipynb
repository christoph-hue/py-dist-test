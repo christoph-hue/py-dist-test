{
 "cells": [
  {
   "cell_type": "code",
   "execution_count": null,
   "id": "acknowledged-convertible",
   "metadata": {},
   "outputs": [],
   "source": [
    "import geneEcomparison"
   ]
  }
 ],
 "metadata": {
  "kernelspec": {
   "display_name": "Python 3",
   "language": "python",
   "name": "python3"
  },
  "language_info": {
   "name": ""
  }
 },
 "nbformat": 4,
 "nbformat_minor": 5
}
